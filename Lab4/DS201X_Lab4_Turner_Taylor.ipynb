{
 "cells": [
  {
   "cell_type": "code",
   "execution_count": 2,
   "metadata": {},
   "outputs": [
    {
     "name": "stdout",
     "output_type": "stream",
     "text": [
      "What is your final point?:105\n",
      "Please enter a valid grade\n",
      "Do you have more student's Final points?yes\n",
      "What is your final point?:98\n",
      "Your points: 98.0 Your letter grade: A, good job!\n",
      "Do you have more student's Final points?yes\n",
      "What is your final point?:45\n",
      "Your points: 45.0 Your letter grade: F, sorry you fail\n",
      "Do you have more student's Final points?no\n"
     ]
    }
   ],
   "source": [
    "answer = \"y\"\n",
    "while(answer == \"Yes\" or answer == \"yes\" or answer == \"Y\" or answer == \"y\" or answer == \"I do\"):\n",
    "    points = float(input(\"What is your final point?:\"))\n",
    "    if 92.5 <= points <= 100:\n",
    "        print(\"Your points: \" + str(points) + \" Your letter grade: A, good job!\")\n",
    "    elif 82.5 <= points < 92.5:\n",
    "        print(\"Your points: \" + str(points) + \" Your letter grade: B\")\n",
    "    elif 72.5 <= points < 82.5:\n",
    "        print(\"Your points: \" + str(points) + \" Your letter grade: C\")\n",
    "    elif 62.5 <= points < 72.5:\n",
    "        print(\"Your points: \" + str(points) + \" Your letter grade: D\")\n",
    "    elif 0 <= points < 62.5:\n",
    "        print(\"Your points: \" + str(points) + \" Your letter grade: F, sorry you fail\")\n",
    "    else:\n",
    "        print(\"Please enter a valid grade\")\n",
    "    answer = input(\"Do you have more student's Final points?\")\n",
    "    "
   ]
  },
  {
   "cell_type": "code",
   "execution_count": null,
   "metadata": {},
   "outputs": [],
   "source": []
  }
 ],
 "metadata": {
  "kernelspec": {
   "display_name": "Python 3",
   "language": "python",
   "name": "python3"
  },
  "language_info": {
   "codemirror_mode": {
    "name": "ipython",
    "version": 3
   },
   "file_extension": ".py",
   "mimetype": "text/x-python",
   "name": "python",
   "nbconvert_exporter": "python",
   "pygments_lexer": "ipython3",
   "version": "3.7.4"
  }
 },
 "nbformat": 4,
 "nbformat_minor": 2
}
