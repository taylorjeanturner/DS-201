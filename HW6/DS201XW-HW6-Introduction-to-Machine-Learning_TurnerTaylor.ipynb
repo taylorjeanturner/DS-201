{
 "cells": [
  {
   "cell_type": "code",
   "execution_count": 7,
   "metadata": {},
   "outputs": [
    {
     "data": {
      "text/plain": [
       "array(['apple'], dtype='<U6')"
      ]
     },
     "execution_count": 7,
     "metadata": {},
     "output_type": "execute_result"
    }
   ],
   "source": [
    "import numpy as np\n",
    "import pandas as pd\n",
    "from sklearn import tree\n",
    "features = [[140, 1], [130, 1], [150, 0], [170, 0]]\n",
    "labels = ['apple', 'apple', 'orange', 'orange']\n",
    "clf = tree.DecisionTreeClassifier()\n",
    "clf = clf.fit(features, labels)\n",
    "clf.predict([[140, 1]])\n",
    "# The fruit with weight 140 and bumpy skin is predicted to be an apple\n",
    "# Weight is the more important feature when predicting with the decision tree model"
   ]
  },
  {
   "cell_type": "code",
   "execution_count": 10,
   "metadata": {},
   "outputs": [
    {
     "data": {
      "text/plain": [
       "array(['Pokemon Go'], dtype='<U10')"
      ]
     },
     "execution_count": 10,
     "metadata": {},
     "output_type": "execute_result"
    }
   ],
   "source": [
    "features = [[0, 15], [0, 25], [1, 32], [0, 40], [1, 12], [1, 14]]\n",
    "labels = ['Pokemon Go', 'WhatsApp', 'Snap Chat', 'WhatsApp', 'Pokemon Go', 'Pokemon Go']\n",
    "clf = tree.DecisionTreeClassifier()\n",
    "clf = clf.fit(features, labels)\n",
    "clf.predict([[1, 21]])\n",
    "clf.predict([[0, 18]])\n",
    "# Gender: M, Age 21 = Snap Chat\n",
    "# Gender: F, Age 18 = Pokemon Go"
   ]
  },
  {
   "cell_type": "code",
   "execution_count": null,
   "metadata": {},
   "outputs": [],
   "source": []
  }
 ],
 "metadata": {
  "kernelspec": {
   "display_name": "Python 3",
   "language": "python",
   "name": "python3"
  },
  "language_info": {
   "codemirror_mode": {
    "name": "ipython",
    "version": 3
   },
   "file_extension": ".py",
   "mimetype": "text/x-python",
   "name": "python",
   "nbconvert_exporter": "python",
   "pygments_lexer": "ipython3",
   "version": "3.7.4"
  }
 },
 "nbformat": 4,
 "nbformat_minor": 2
}
