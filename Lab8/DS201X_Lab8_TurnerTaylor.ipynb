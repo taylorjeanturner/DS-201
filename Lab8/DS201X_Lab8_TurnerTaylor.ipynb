{
 "cells": [
  {
   "cell_type": "code",
   "execution_count": 7,
   "metadata": {},
   "outputs": [
    {
     "data": {
      "text/plain": [
       "False"
      ]
     },
     "execution_count": 7,
     "metadata": {},
     "output_type": "execute_result"
    }
   ],
   "source": [
    "import pandas as pd\n",
    "import numpy as np\n",
    "lemon = pd.read_csv('Lemonade_Lab8.csv')\n",
    "lemon.isnull().any()\n",
    "lemon.duplicated().any()"
   ]
  },
  {
   "cell_type": "code",
   "execution_count": 8,
   "metadata": {},
   "outputs": [],
   "source": [
    "from bokeh.models import ColumnDataSource\n",
    "sourceQ4 = ColumnDataSource(lemon)\n",
    "from bokeh.io import output_notebook, show\n",
    "from bokeh.plotting import figure\n",
    "p = figure(title = \"Lemon and Orange Sales by Temperature\")\n",
    "p.circle('Temperature', 'Lemon', source = sourceQ4, color = 'green', size = 8, legend = dict(value = 'Lemon'))\n",
    "p.triangle('Temperature', 'Orange', source = sourceQ4, color = 'orange', size = 8, legend = dict(value = 'Orange'))\n",
    "p.legend.location = \"top_left\"\n",
    "show(p)\n",
    "# As the temperature increases, the sales for both lemon and orange increase as well."
   ]
  },
  {
   "cell_type": "code",
   "execution_count": 9,
   "metadata": {},
   "outputs": [],
   "source": [
    "temperatures = list(lemon.groupby('Temperature').groups)\n",
    "temperatures\n",
    "avg = lemon.groupby('Temperature')['Lemon'].mean()\n",
    "std = lemon.groupby('Temperature')['Lemon'].std()"
   ]
  },
  {
   "cell_type": "code",
   "execution_count": 10,
   "metadata": {},
   "outputs": [],
   "source": [
    "from bokeh.models import ColumnDataSource, CDSView, GroupFilter\n",
    "sourceQ6 = ColumnDataSource(lemon)\n",
    "park = CDSView(source = sourceQ6, filters = [GroupFilter(column_name = 'Location', group = 'Park')])\n",
    "beach = CDSView(source = sourceQ6, filters = [GroupFilter(column_name = 'Location', group = 'Beach')])\n",
    "p1 = figure(title = \"Temperature vs Lemon Sales (Park and Beach)\")\n",
    "p1.triangle('Temperature', 'Lemon', source = sourceQ6, color = 'blue', size = 8, view = park, legend = 'Sale in Park')\n",
    "p1.circle('Temperature', 'Lemon', source = sourceQ6, color = 'red', size = 8, view = beach, legend = 'Sale in Beach')\n",
    "p1.vbar(x = temperatures, top = avg + std, width = 0.8, bottom = avg - std, fill_alpha = 0.2, legend = \"Lemon Revenue 1 stddev\")\n",
    "p1.legend.location = 'top_left'\n",
    "show(p1)\n",
    "# As the temperature increases, the sales at both the park and beach increase as well. It seems that there are more\n",
    "# sales at the park when there are lower temperatures than at the beach."
   ]
  }
 ],
 "metadata": {
  "kernelspec": {
   "display_name": "Python 3",
   "language": "python",
   "name": "python3"
  },
  "language_info": {
   "codemirror_mode": {
    "name": "ipython",
    "version": 3
   },
   "file_extension": ".py",
   "mimetype": "text/x-python",
   "name": "python",
   "nbconvert_exporter": "python",
   "pygments_lexer": "ipython3",
   "version": "3.7.4"
  }
 },
 "nbformat": 4,
 "nbformat_minor": 2
}
