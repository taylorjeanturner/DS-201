{
 "cells": [
  {
   "cell_type": "code",
   "execution_count": 20,
   "metadata": {},
   "outputs": [],
   "source": [
    "import pandas as pd\n",
    "df = pd.read_csv('Lemonade2016-2.csv')\n",
    "from bokeh.plotting import figure, output_file, show\n",
    "from bokeh.io import output_file, show\n",
    "from bokeh.layouts import row\n",
    "df.iloc[8, 0] = \"7/8/2016\"\n",
    "df['Leaflets'] = df['Leaflets'].fillna(round(df['Leaflets'].mean(),0))\n",
    "df = df.drop_duplicates()\n",
    "df = df.reset_index(drop = True)\n",
    "df['Sales'] = df['Lemon'] + df['Orange']\n",
    "df['Revenue'] = df['Sales']*df['Price']"
   ]
  },
  {
   "cell_type": "code",
   "execution_count": 21,
   "metadata": {},
   "outputs": [],
   "source": [
    "output_file(\"Turner-DS201X-HW5-plot1.html\")\n",
    "p = figure(plot_width=400, plot_height=400, title = \"Sales by Temperature. With Revenue as Circle size\")\n",
    "p.circle(df['Temperature'], df['Sales'], size=df['Revenue']/2, color=\"steelblue\", alpha=0.5)\n",
    "show(p)"
   ]
  },
  {
   "cell_type": "code",
   "execution_count": 22,
   "metadata": {},
   "outputs": [],
   "source": [
    "output_file(\"Turner-DS201X-HW5-plot2.html\")\n",
    "s1 = figure(plot_width=250, plot_height=250, background_fill_color=\"#fafafa\", title = 'Revenue by Leaflets')\n",
    "s1.circle(df['Leaflets'], df['Revenue'], size=5, color=\"#53777a\", alpha=0.8)\n",
    "s2 = figure(plot_width=250, plot_height=250, background_fill_color=\"#fafafa\", title = 'Revenue vs. Sales')\n",
    "s2.circle(df['Sales'], df['Revenue'], size=5, color=\"#c02942\", alpha=0.8)\n",
    "s3 = figure(plot_width=250, plot_height=250, background_fill_color=\"#fafafa\", title = 'Sales by Temperature')\n",
    "s3.circle(df['Temperature'], df['Sales'], size=5, color=\"#d95b43\", alpha=0.8)\n",
    "show(row(s1, s2, s3))"
   ]
  },
  {
   "cell_type": "code",
   "execution_count": null,
   "metadata": {},
   "outputs": [],
   "source": []
  }
 ],
 "metadata": {
  "kernelspec": {
   "display_name": "Python 3",
   "language": "python",
   "name": "python3"
  },
  "language_info": {
   "codemirror_mode": {
    "name": "ipython",
    "version": 3
   },
   "file_extension": ".py",
   "mimetype": "text/x-python",
   "name": "python",
   "nbconvert_exporter": "python",
   "pygments_lexer": "ipython3",
   "version": "3.7.4"
  }
 },
 "nbformat": 4,
 "nbformat_minor": 2
}
